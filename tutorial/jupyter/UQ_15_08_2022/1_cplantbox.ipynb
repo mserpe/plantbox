{
 "cells": [
  {
   "cell_type": "code",
   "execution_count": 1,
   "id": "0765868e",
   "metadata": {},
   "outputs": [],
   "source": [
    "# # !!! only uncomment and run when using colab !!!\n",
    "# import os\n",
    "# ! git clone https://github.com/Plant-Root-Soil-Interactions-Modelling/CPlantBox # downloading the source code\n",
    "# os.chdir(\"/content/CPlantBox/\")\n",
    "# ! git pull\n",
    "# ! cmake .\n",
    "# ! make\n",
    "# os.chdir(\"/content/CPlantBox/tutorial/jupyter/UQ_15_08_2022/\")"
   ]
  },
  {
   "cell_type": "markdown",
   "id": "b969a136",
   "metadata": {},
   "source": [
    "# UQ presentation - 2022"
   ]
  },
  {
   "cell_type": "code",
   "execution_count": 9,
   "id": "de561c3e",
   "metadata": {},
   "outputs": [],
   "source": [
    "import sys; sys.path.append(\"../../..\"); sys.path.append(\"../../../src/python_modules\")\n",
    "import plantbox as pb\n",
    "import vtk_plot as vp # for quick 3d vizualisations\n",
    "import matplotlib.pyplot as plt # for 2d plots\n",
    "import numpy as np"
   ]
  },
  {
   "cell_type": "markdown",
   "id": "170c3976",
   "metadata": {},
   "source": [
    "## 1. Simulate a plant"
   ]
  },
  {
   "cell_type": "code",
   "execution_count": 23,
   "id": "aa1f2a2e",
   "metadata": {},
   "outputs": [
    {
     "name": "stdout",
     "output_type": "stream",
     "text": [
      "Seed::initialize: Plant \n",
      "Could not respect geometry boundaries \n",
      "Organism::readParameters: plant tag was not found in xml file, retrying with Plant \n",
      "LeafRandomParameter::createLeafRadialGeometry: Warning! parametrisation vectors y and l are empty or differ in size\n",
      "for leaf subType 3, leafGeometry.size() is 100\n",
      "for leaf subType 3, leafGeometry.size() is 101\n",
      "Seed::initialize: Plant \n",
      "Seed::initialize: Basal root type #4 was not defined, using tap root parameters instead\n"
     ]
    }
   ],
   "source": [
    "# Create instance describing a plant\n",
    "plant = pb.Plant()\n",
    "\n",
    "# Open plant parameter from a file\n",
    "path = \"../../../modelparameter/plant/\"\n",
    "name = \"0\"#\n",
    "plant.readParameters(path + name + \".xml\")\n",
    "\n",
    "# define 2D shape\n",
    "for p in plant.getOrganRandomParameter(pb.leaf):\n",
    "    p.a = 0.05\n",
    "    p.a_s = 0\n",
    "    if (p.subType > 0): \n",
    "        #print(p.subType, \"radius\", p.a, \"lmax\", p.lmax, p.ln, p.lb, p.successor, p.nob())        \n",
    "        if (p.subType > 2): \n",
    "            \n",
    "            #Round leaf:\n",
    "            if False:\n",
    "                p.lb =  1 # length of leaf stem\n",
    "                p.la,  p.lmax = 5, 11\n",
    "                p.areaMax = 3.145*(((p.lmax-p.la - p.lb)/2)**2)\n",
    "                phi = np.array([-90, -45, 0., 45,67.5,70, 90]) / 180. * np.pi\n",
    "                l_ = (p.lmax - p.lb - p.la)/2\n",
    "                l = np.array([l_ for x_i in range(len(phi))]) \n",
    "\n",
    "            #flower-shaped leaf:\n",
    "            if False:\n",
    "                p.areaMax = 100 \n",
    "                p.la, p.lb, p.lmax = 5, 1, 11\n",
    "                phi = np.array([-90., -67.5, -45, -22.5, 0, 22.5, 45, 67.5, 90]) / 180. * np.pi\n",
    "                l = np.array([5., 1, 5, 1, 5, 1, 5, 1, 5])\n",
    "                \n",
    "            #small leaf\n",
    "            if True:\n",
    "                p.la, p.lb, p.lmax, p.ln, = 3.5, 1., 7.5, 3  \n",
    "                p.areaMax = 10  # cm2\n",
    "                phi = np.array([-90, -45, 0., 45, 90]) / 180. * np.pi\n",
    "                l= np.array([3, 2.2, 1.7, 2, 3.5])\n",
    "            \n",
    "            \n",
    "            N = 101  # N is rather high for testing\n",
    "            p.createLeafRadialGeometry(phi, l, N)\n",
    "            p.parametrisationType = 0\n",
    "            p.tropismT = 1\n",
    "            p.tropismN = 5\n",
    "            p.tropismS = 0.1\n",
    "   \n",
    "        else:\n",
    "            p.a = p.a * 3\n",
    "\n",
    "# Simulate\n",
    "plant.initialize() \n",
    "plant.simulate(30) # [days]\n",
    "\n",
    "# Export\n",
    "plant.write(\"first_example.vtp\") # for Paraview\n",
    "plant.write(\"first_example.rsml\") # e.g. gui/viewer/rsml_viewer.py\n",
    "\n",
    "# Visualize\n",
    "_ = vp.plot_plant(plant,\"creationTime\") # Plot, using vtk (e.g. \"subType\")"
   ]
  },
  {
   "cell_type": "markdown",
   "id": "7685baaa",
   "metadata": {},
   "source": [
    "## 2. Post-processing (how to evaluate simulation results)\n",
    "\n",
    "Basically, there are two methods \n",
    "\n",
    "1. Using class *Plant* directly, parameter values are given per root (root system is represented as polylines).\n",
    "\n",
    "2. Using class *SegmentAnalyser*, which will consider all segments of the root system, parameter values are given per segment (root system is represented by nodes and segments)."
   ]
  },
  {
   "cell_type": "markdown",
   "id": "7361b23f",
   "metadata": {},
   "source": [
    "### 2.1 Root system length vs time"
   ]
  },
  {
   "cell_type": "markdown",
   "id": "c8c33d34",
   "metadata": {},
   "source": [
    "The following example will plot length versus time for the root system, and each subType (see *example2d_length.py*)"
   ]
  },
  {
   "cell_type": "code",
   "execution_count": 24,
   "id": "2ab819d2",
   "metadata": {},
   "outputs": [
    {
     "name": "stdout",
     "output_type": "stream",
     "text": [
      "writing VTP... first_example.vtp\n",
      "writing RSML... first_example.rsml\n",
      "Organism::readParameters: plant tag was not found in xml file, retrying with Plant \n",
      "LeafRandomParameter::createLeafRadialGeometry: Warning! parametrisation vectors y and l are empty or differ in size\n",
      "for leaf subType 3, leafGeometry.size() is 100\n",
      "Seed::initialize: Plant \n",
      "Seed::initialize: Basal root type #4 was not defined, using tap root parameters instead\n"
     ]
    },
    {
     "data": {
      "image/png": "[encoded data removed]",
      "text/plain": [
       "<Figure size 432x288 with 1 Axes>"
      ]
     },
     "metadata": {
      "needs_background": "light"
     },
     "output_type": "display_data"
    },
    {
     "name": "stdout",
     "output_type": "stream",
     "text": [
      "final tap root length:  77.90987955075941 cm\n"
     ]
    }
   ],
   "source": [
    "rs = pb.Plant()\n",
    "path = \"../../../modelparameter/plant/\"\n",
    "name = \"0\"#\"Zea_mays_1_Leitner_2010\"\n",
    "rs.readParameters(path + name + \".xml\")\n",
    "rs.setGeometry(pb.SDF_PlantBox(1.e6,1.e6,1.e6)) \n",
    "rs.initialize() # reset above simulation\n",
    "scalar_type = \"length\" # \"surface\", \"volume\"\n",
    "simtime = 60.  # final simulation time [day]\n",
    "dt = 1. # time step [day]\n",
    "N = round(simtime / dt)  # number of iterations\n",
    "v_, v1_, v2_, v3_, v4_ = np.zeros(N), np.zeros(N), np.zeros(N), np.zeros(N), np.zeros(N)\n",
    "\"\"\" Simulation loop \"\"\"\n",
    "for i in range(0, N):\n",
    "    rs.simulate(dt)\n",
    "    ot = np.array(rs.getParameter(\"organType\")) # take only root\n",
    "    t = np.array(rs.getParameter(\"subType\")) # value per root subtype\n",
    "    v = np.array(rs.getParameter(scalar_type)) # all random or specific parameters are accessible\n",
    "    v_[i] = np.sum(v[ot==2])\n",
    "    v1_[i] = np.sum(v[np.logical_and(t == 1, ot == 2) ])\n",
    "    v2_[i] = np.sum(v[np.logical_and(t == 2, ot == 2)])\n",
    "    v3_[i] = np.sum(v[np.logical_and(t == 3, ot == 2)])\n",
    "    v4_[i] = np.sum(v[np.logical_and(t == 4, ot == 2)])\n",
    "    \n",
    "t_ = np.linspace(dt, N * dt, N)\n",
    "plt.plot(t_, v_, t_, v1_, t_, v2_, t_, v3_, t_, v4_)\n",
    "plt.xlabel(\"time (days)\")\n",
    "plt.ylabel(scalar_type + \" (cm)\")\n",
    "plt.legend([\"total\", \"tap root\", \"lateral\", \"2nd order lateral\", \"basal roots\"])\n",
    "# plt.savefig(\"myplot.png\") # we could save it as png\n",
    "plt.show()\n",
    "print(\"final tap root length: \", v1_[-1], \"cm\")"
   ]
  },
  {
   "cell_type": "markdown",
   "id": "93c56759",
   "metadata": {},
   "source": [
    "## 2.2 Analyse results from the class *SegmentAnalyser* (values per segment) in a loop\n",
    "\n",
    "The main functionality of the *SegmentAnalyser* class is:\n",
    "* *getParameter(name)* as for *RootSystem* class, but returning a value for each segment, especially the \"creationTime\" of each segment\n",
    "* *filter(name, min, max)* will keep only segments where the value of parameter *name* is within [min, max]\n",
    "* *crop(sdf)* will keep only segments inside a geometry (e.g. in a soil core), segments intersecting the domain boundary are cut. \n",
    "* *distribution(...)* will create a 1d plot versus depth, where parameters are summed in layers \n",
    "* *distribution2d(...)* as above but 2d\n",
    "* *mapPeriodic(length, width)* maps the unconstrained root system into a periodic domain\n",
    "* *addData(name, data)* attach user data to the segments (e.g. simulation results for visualization or export)\n",
    "\n",
    "Note that *SegmentAnalyser* is only loosly connected to the original simulation.\n",
    "\n",
    "The first example shows how to obtain a depth distribution (values per segment) in a simulation loop."
   ]
  },
  {
   "cell_type": "code",
   "execution_count": 25,
   "id": "64841be1",
   "metadata": {},
   "outputs": [
    {
     "name": "stdout",
     "output_type": "stream",
     "text": [
      "Could not respect geometry boundaries \n",
      "Organism::readParameters: plant tag was not found in xml file, retrying with Plant \n",
      "LeafRandomParameter::createLeafRadialGeometry: Warning! parametrisation vectors y and l are empty or differ in size\n",
      "for leaf subType 3, leafGeometry.size() is 100\n"
     ]
    },
    {
     "data": {
      "image/png": "[encoded data removed]",
      "text/plain": [
       "<Figure size 432x288 with 1 Axes>"
      ]
     },
     "metadata": {
      "needs_background": "light"
     },
     "output_type": "display_data"
    }
   ],
   "source": [
    "s = pb.Plant()\n",
    "path = \"../../../modelparameter/plant/\"\n",
    "name = \"0\"\n",
    "rs.readParameters(path + name + \".xml\")\n",
    "rs.setGeometry(pb.SDF_PlantBox(1.e6,1.e6,1.e6)) \n",
    "rs.initialize()\n",
    "\n",
    "simtimes = [0,10,20,40,60] # day\n",
    "dt_ = np.diff(simtimes) # day\n",
    "depth = 100 # cm\n",
    "layers = 60 # [1]\n",
    "\n",
    "\"\"\" Simulation loop \"\"\"\n",
    "rsd_ = []\n",
    "for dt in dt_:    \n",
    "    rs.simulate(dt)\n",
    "    #_ = vp.plot_plant(rs, \"subType\") # to observe growth\n",
    "    ana = pb.SegmentAnalyser(rs) # create a SegmentAnalyser object\n",
    "    rsd = ana.distribution(\"surface\", 0., -depth, layers, True)\n",
    "    rsd_.append(rsd) # store relevant data in a list\n",
    "\n",
    "\"\"\" vizualize rld_ \"\"\"\n",
    "soilvolume = (depth / layers) * 10 * 10\n",
    "rsd_ = np.array(rsd_) / soilvolume  # convert to density [cm2/cm3]\n",
    "\n",
    "z_ = np.linspace(0, -depth, layers)  # z - axis\n",
    "for i, t in enumerate(simtimes[1:]):\n",
    "    plt.plot(rsd_[i,:], z_, label = \"at time \"+str(t))\n",
    "\n",
    "plt.xlabel(\"root surface (cm^2 / cm^3)\")\n",
    "plt.ylabel(\"z-coordinate (cm)\")\n",
    "plt.legend()\n",
    "# plt.savefig(\"surface_density.png\")\n",
    "plt.show()\n",
    "#_ = vp.plot_plant(rs, \"subType\") # final result"
   ]
  }
 ],
 "metadata": {
  "kernelspec": {
   "display_name": "Python 3 (ipykernel)",
   "language": "python",
   "name": "python3"
  },
  "language_info": {
   "codemirror_mode": {
    "name": "ipython",
    "version": 3
   },
   "file_extension": ".py",
   "mimetype": "text/x-python",
   "name": "python",
   "nbconvert_exporter": "python",
   "pygments_lexer": "ipython3",
   "version": "3.8.10"
  },
  "latex_envs": {
   "LaTeX_envs_menu_present": true,
   "autoclose": false,
   "autocomplete": true,
   "bibliofile": "biblio.bib",
   "cite_by": "apalike",
   "current_citInitial": 1,
   "eqLabelWithNumbers": true,
   "eqNumInitial": 1,
   "hotkeys": {
    "equation": "Ctrl-E",
    "itemize": "Ctrl-I"
   },
   "labels_anchors": false,
   "latex_user_defs": false,
   "report_style_numbering": false,
   "user_envs_cfg": false
  }
 },
 "nbformat": 4,
 "nbformat_minor": 5
}
