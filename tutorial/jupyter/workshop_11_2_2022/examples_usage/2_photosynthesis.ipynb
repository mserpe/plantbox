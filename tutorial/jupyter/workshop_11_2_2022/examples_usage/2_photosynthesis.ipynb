{
 "cells": [
  {
   "cell_type": "code",
   "execution_count": null,
   "metadata": {},
   "outputs": [],
   "source": [
    "# !!! only run when using colab !!!\n",
    "import os\n",
    "! git clone https://github.com/Plant-Root-Soil-Interactions-Modelling/CPlantBox # downloading the source code\n",
    "os.chdir(\"/content/CPlantBox/\")\n",
    "! cmake .\n",
    "! make\n",
    "os.chdir(\"/content/CPlantBox/tutorial/jupyter/workshop_11_2_2022/examples_usage/\")"
   ]
  },
  {
   "cell_type": "markdown",
   "metadata": {},
   "source": [
    "# Workshop 11.2.2022 - test case\n",
    "\n",
    "## Presentation of photosynthesis module"
   ]
  },
  {
   "cell_type": "code",
   "execution_count": 1,
   "metadata": {},
   "outputs": [],
   "source": [
    "import sys; sys.path.append(\"../../../..\"); sys.path.append(\"../../../../src/python_modules\")\n",
    "from xylem_flux import XylemFluxPython  # Python hybrid solver\n",
    "from Leuning import Leuning\n",
    "import plantbox as pb\n",
    "import vtk_plot as vp\n",
    "import pandas as pd\n",
    "from matplotlib.ticker import MaxNLocator\n",
    "import numpy as np\n",
    "import matplotlib.pyplot as plt"
   ]
  },
  {
   "cell_type": "markdown",
   "metadata": {},
   "source": [
    "define parameters:"
   ]
  },
  {
   "cell_type": "code",
   "execution_count": 2,
   "metadata": {},
   "outputs": [],
   "source": [
    "kz = 4.32e-1  # axial conductivity [cm^3/day] \n",
    "kr = 1.728e-4  # radial conductivity of roots [1/day]\n",
    "kr_stem = 1.e-20  # radial conductivity of stem  [1/day], set to almost 0\n",
    "gmax =  0.004 #  cm3/day radial conductivity of leaves = stomatal conductivity [1/day]\n",
    "p_a =  -1000  #static air water potential \n",
    "simtime = 14.0  # [day] for task b\n",
    "k_soil = []\n",
    "plotResults = True\n",
    "saveResults = False\n",
    "\n",
    "t_init = 70\n",
    "t_end = 90"
   ]
  },
  {
   "cell_type": "markdown",
   "metadata": {},
   "source": [
    "set up root system"
   ]
  },
  {
   "cell_type": "code",
   "execution_count": 3,
   "metadata": {},
   "outputs": [
    {
     "name": "stdout",
     "output_type": "stream",
     "text": [
      "OrganRandomParameter::readXML: warning! parameter geometryN is defined in the xml, but not available in organ leaf\n",
      "OrganRandomParameter::readXML: warning! parameter leafGeometry is defined in the xml, but not available in organ leaf\n"
     ]
    }
   ],
   "source": [
    "# root system \n",
    "pl = pb.MappedPlant() #pb.MappedRootSystem() #pb.MappedPlant()\n",
    "path = \"../../../../modelparameter/plant/\" #\"../../../../modelparameter/rootsystem/\" \n",
    "name = \"manyleaves\" #\"Anagallis_femina_Leitner_2010\"  # Zea_mays_1_Leitner_2010\n",
    "pl.readParameters(path + name + \".xml\")\n",
    "\n",
    "#load data\n",
    "df = pd.read_csv('../../../../modelparameter/Selhausen_weather_data.txt', delimiter = \"\\t\")\n",
    "\n",
    "\"\"\" soil \"\"\"\n",
    "min_ = np.array([-5, -5, -15])\n",
    "max_ = np.array([9, 4, 0])\n",
    "res_ = np.array([5, 5, 5])\n",
    "pl.setRectangularGrid(pb.Vector3d(min_), pb.Vector3d(max_), pb.Vector3d(res_), True)  # cut and map segments\n",
    "\n",
    "\n",
    "pl.initialize()\n",
    "pl.simulate(simtime, False)\n",
    "\n",
    "\n",
    "r = Leuning(pl) \n",
    "r.setKr([[kr],[kr_stem],[gmax]]) #gmax will be changed by the leuning function \n",
    "r.setKx([[kz]])\n",
    "r.airPressure = p_a\n",
    "leaf_nodes = r.get_nodes_index(4)\n"
   ]
  },
  {
   "cell_type": "markdown",
   "metadata": {},
   "source": [
    "launch computation loop"
   ]
  },
  {
   "cell_type": "code",
   "execution_count": 4,
   "metadata": {},
   "outputs": [],
   "source": [
    "# Numerical solution \n",
    "results=[]\n",
    "resultsAn=[]\n",
    "resultsgco2=[]\n",
    "resultsVc=[]\n",
    "resultsVj=[]\n",
    "resultscics=[]\n",
    "resultsfw=[]\n",
    "resultspl=[]\n",
    "\n",
    "for i in range(t_init, t_end):\n",
    "    \n",
    "    Q_input = df['PAR'][i]\n",
    "    RH_input = df['RH'][i]\n",
    "    Tair_input = df['Tair'][i]\n",
    "    p_s_input = df['ps'][i]\n",
    "    N_input = 4.4 #nitrogen satisfaction for small wheat plants\n",
    "    cs_input = df['co2'][i]\n",
    "    var = [Q_input,RH_input, Tair_input, p_s_input, N_input, cs_input]\n",
    "    es = 0.61078 * np.exp(17.27 * var[2] / (var[2] + 237.3)) #FAO56\n",
    "    ea = es * var[1]\n",
    "    VPD = es - ea \n",
    "    r.Param['Patm']=df['Pair'][i]\n",
    "    rx = r.solve_leuning( sim_time = simtime,sxx=[var[3]], cells = True, Qlight = var[0],VPD = VPD,Tl = var[2] + 273.15,p_linit = var[3],\n",
    "    ci_init = var[5]*0.7, cs =var[5], soil_k = [], N = var[4], log = False, verbose = False)\n",
    "    fluxes = r.radial_fluxes(simtime, rx, [var[3]], k_soil, True)  # cm3/day\n",
    "    organTypes = np.array(r.rs.organTypes)\n",
    "    results.append(sum(np.where(organTypes == 4, fluxes,0)))\n",
    "    resultsAn.append(np.mean(r.An)*1e6)\n",
    "    resultsVc.append(np.mean(r.Vc)*1e6)\n",
    "    resultsVj.append(np.mean(r.Vj)*1e6)\n",
    "    resultsgco2.append(np.mean(r.gco2))\n",
    "    resultscics.append(np.mean(r.ci)/var[5])\n",
    "    resultsfw.append(np.mean(r.fw))\n",
    "    resultspl.append(np.mean(r.x[leaf_nodes]))"
   ]
  },
  {
   "cell_type": "markdown",
   "metadata": {},
   "source": [
    "Plot results:"
   ]
  },
  {
   "cell_type": "code",
   "execution_count": 5,
   "metadata": {},
   "outputs": [],
   "source": [
    "timePlot = df[t_init:t_end]['time']\n",
    "if plotResults:\n",
    "    fig, axs = plt.subplots(2,2)\n",
    "    axs[0, 0].plot(timePlot, resultsAn)\n",
    "    axs[0, 0].set(xlabel='', ylabel='mean An (μmol CO2 m-2 s-1)')\n",
    "    axs[0, 0].xaxis.set_major_locator(MaxNLocator(5))\n",
    "    axs[1, 0].plot(timePlot, resultsVc, 'tab:red')\n",
    "    axs[1, 0].set(xlabel='time', ylabel='mean Vc (μmol CO2 m-2 s-1)')\n",
    "    axs[1, 0].xaxis.set_major_locator(MaxNLocator(5))\n",
    "    axs[0, 1].plot(timePlot, resultsVj, 'tab:brown')\n",
    "    axs[0, 1].set(xlabel='', ylabel='mean Vj (μmol CO2 m-2 s-1)')\n",
    "    axs[0, 1].xaxis.set_major_locator(MaxNLocator(5))\n",
    "    axs[1, 1].plot(timePlot, resultsgco2, 'tab:brown')\n",
    "    axs[1, 1].set(xlabel='time', ylabel='mean gco2 (mol CO2 m-2 s-1)')\n",
    "    axs[1, 1].xaxis.set_major_locator(MaxNLocator(5))\n",
    "    plt.show()\n",
    "    fig, axs = plt.subplots(2,2)\n",
    "    axs[0, 0].plot(timePlot, results)\n",
    "    axs[0, 0].set(xlabel='', ylabel='E')\n",
    "    axs[0, 0].xaxis.set_major_locator(MaxNLocator(5))\n",
    "    axs[0, 1].plot(timePlot, resultsfw, 'tab:brown')\n",
    "    axs[0, 1].set(xlabel='', ylabel='fw')\n",
    "    axs[0, 1].xaxis.set_major_locator(MaxNLocator(5))\n",
    "    axs[1, 0].plot(timePlot, resultspl, 'tab:brown')\n",
    "    axs[1, 0].set(xlabel='time', ylabel='pl')\n",
    "    axs[1, 0].xaxis.set_major_locator(MaxNLocator(5))\n",
    "    axs[1, 1].plot(timePlot, resultscics, 'tab:brown')\n",
    "    axs[1, 1].set(xlabel='time', ylabel='ci/cs (-)')\n",
    "    axs[1, 1].xaxis.set_major_locator(MaxNLocator(5))\n",
    "    plt.show()"
   ]
  }
 ],
 "metadata": {
  "kernelspec": {
   "display_name": "Python 3 (ipykernel)",
   "language": "python",
   "name": "python3"
  },
  "language_info": {
   "codemirror_mode": {
    "name": "ipython",
    "version": 3
   },
   "file_extension": ".py",
   "mimetype": "text/x-python",
   "name": "python",
   "nbconvert_exporter": "python",
   "pygments_lexer": "ipython3",
   "version": "3.8.10"
  },
  "latex_envs": {
   "LaTeX_envs_menu_present": true,
   "autoclose": false,
   "autocomplete": true,
   "bibliofile": "biblio.bib",
   "cite_by": "apalike",
   "current_citInitial": 1,
   "eqLabelWithNumbers": true,
   "eqNumInitial": 1,
   "hotkeys": {
    "equation": "Ctrl-E",
    "itemize": "Ctrl-I"
   },
   "labels_anchors": false,
   "latex_user_defs": false,
   "report_style_numbering": false,
   "user_envs_cfg": false
  }
 },
 "nbformat": 4,
 "nbformat_minor": 4
}
