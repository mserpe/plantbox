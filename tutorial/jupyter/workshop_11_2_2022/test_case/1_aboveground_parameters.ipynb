{
 "cells": [
  {
   "cell_type": "code",
   "execution_count": null,
   "metadata": {},
   "outputs": [],
   "source": [
    "# !!! only run when using colab !!!\n",
    "import os\n",
    "! git clone https://github.com/Plant-Root-Soil-Interactions-Modelling/CPlantBox # downloading the source code\n",
    "os.chdir(\"/content/CPlantBox/\")\n",
    "! cmake .\n",
    "! make\n",
    "os.chdir(\"/content/CPlantBox/tutorial/jupyter/workshop_11_2_2022/\")"
   ]
  },
  {
   "cell_type": "markdown",
   "metadata": {},
   "source": [
    "# Workshop 11.2.2022 - test case\n",
    "\n",
    "## Presentation of parameters added for aboveground organs"
   ]
  },
  {
   "cell_type": "code",
   "execution_count": 1,
   "metadata": {},
   "outputs": [],
   "source": [
    "import sys; sys.path.append(\"../../../..\"); sys.path.append(\"../../../../src/python_modules\")\n",
    "import plantbox as pb\n",
    "import vtk_plot as vp # for quick vizualisations\n",
    "import matplotlib.pyplot as plt # for 2d plots\n",
    "import numpy as np"
   ]
  },
  {
   "cell_type": "markdown",
   "metadata": {},
   "source": [
    "define parameter for example process:"
   ]
  },
  {
   "cell_type": "code",
   "execution_count": 2,
   "metadata": {},
   "outputs": [],
   "source": [
    "adaptSeed = False #change seed parameter\n",
    "adaptLeaf = False #change leaf parameter\n",
    "adaptStem = False #change root parameter\n",
    "leafRadial = False #radial or not\n",
    "getImage = True  #see static image\n",
    "anim = True  #see plant growth\n",
    "export = False  #export created images"
   ]
  },
  {
   "cell_type": "code",
   "execution_count": 3,
   "metadata": {},
   "outputs": [
    {
     "name": "stdout",
     "output_type": "stream",
     "text": [
      "OrganRandomParameter::readXML: warning! parameter geometryN is defined in the xml, but not available in organ leaf\n",
      "OrganRandomParameter::readXML: warning! parameter leafGeometry is defined in the xml, but not available in organ leaf\n"
     ]
    }
   ],
   "source": [
    "plant = pb.Plant()\n",
    "path = \"../../../../modelparameter/plant/\"\n",
    "name = \"example1e\"\n",
    "plant.readParameters(path + name + \".xml\")\n",
    "\n"
   ]
  },
  {
   "cell_type": "markdown",
   "metadata": {},
   "source": [
    "We focuse here on parameters which affect abvoeground organs:"
   ]
  },
  {
   "cell_type": "code",
   "execution_count": 4,
   "metadata": {},
   "outputs": [],
   "source": [
    "if adaptSeed:\n",
    "    srp = plant.getOrganRandomParameter(pb.seed)\n",
    "    srp = pb.SeedRandomParameter(p)  # with default values\n",
    "    srp.firstTil = 0  # [day] first emergence of a tiller\n",
    "    srp.delayTil = 0  # [day] delay between the emergence of tillers\n",
    "    srp.maxTil = 0 # [-] number of tillers \n",
    "    plant.setOrganRandomParameter(srp)\n",
    "\n",
    " \n",
    "if adaptStem:\n",
    "    for p in plant.getOrganRandomParameter(pb.stem):\n",
    "        if (p.subType > 0): # can be changed according to the suptypes of the plant\n",
    "            p.nodalGrowth = 1   #< whether to implement the internodal growth \n",
    "            p.delayLat = 1  #< delay between stem creation and start of nodal growth [day]\n",
    "            p.delayNG = 5   #< delay between lateral creation and growth [day]\n",
    "            #p.tropismAge = 10 #< only used if tropsimT = 6"
   ]
  },
  {
   "cell_type": "markdown",
   "metadata": {},
   "source": [
    "Leaf parameter:\n",
    "(un)comment according to the leaf shaped to produce.\n",
    "p.lmax - p.la - p.lb = leafMid = center of the leaf"
   ]
  },
  {
   "cell_type": "code",
   "execution_count": 5,
   "metadata": {},
   "outputs": [],
   "source": [
    "if adaptLeaf:\n",
    "    for p in plant.getOrganRandomParameter(pb.leaf):\n",
    "        if (p.subType >= 2): #leaf subtypes start at 2\n",
    "            if leafRadial:\n",
    "\n",
    "                #LongLeaf:\n",
    "                p.lb =  1 # length of leaf stem\n",
    "                p.la,  p.lmax = 3.5, 8.5\n",
    "                p.areaMax = 10  # cm2, area reached when length = lmax\n",
    "                N = 100  # resolution of the leaf shape\n",
    "                phi = np.array([-90, -45, 0., 45, 90]) / 180. * np.pi\n",
    "                l = np.array([3, 2.2, 1.7, 2, 3.5]) #distance from leaf center\n",
    "\n",
    "                #Maple leaf:\n",
    "                p.lb =  1 # length of leaf stem\n",
    "                N = 100  # resolution of the leaf shape\n",
    "                p.areaMax = 50 \n",
    "                p.la,  p.lmax = 5, 11\n",
    "                phi = np.array([-90, -45, 0., 45,67.5,70, 90]) / 180. * np.pi\n",
    "                l = np.array([2, 2, 2, 4,1,1, 4]) #distance from leaf center\n",
    "\n",
    "                #Round leaf:\n",
    "                p.lb =  1 # length of leaf stem\n",
    "                N = 100  # resolution of the leaf shape\n",
    "                p.la,  p.lmax = 5, 11\n",
    "                print(3.14*((p.lmax-p.lb-p.la)/2)**2)\n",
    "                p.areaMax = 3.145*(((p.lmax-p.la - p.lb)/2)**2)\n",
    "                phi = np.array([-90, -45, 0., 45,67.5,70, 90]) / 180. * np.pi\n",
    "                l_ = (p.lmax - p.lb - p.la)/2\n",
    "                l = np.array([l_ for x_i in range(len(phi))]) \n",
    "\n",
    "                #flower-shaped leaf:\n",
    "                #N = 100  # resolution of the leaf shape\n",
    "                #p.areaMax = 100 \n",
    "                #p.la, p.lb, p.lmax = 5, 1, 11\n",
    "                #phi = np.array([-90., -67.5, -45, -22.5, 0, 22.5, 45, 67.5, 90]) / 180. * np.pi\n",
    "                #l = np.array([5., 1, 5, 1, 5, 1, 5, 1, 5])\n",
    "                \n",
    "                p.createLeafRadialGeometry(phi, l, N)   \n",
    "\n",
    "            else:\n",
    "                p.lb =  2 # length of leaf stem\n",
    "                p.la,  p.lmax = 3.5, 8.5\n",
    "                p.areaMax = 10  # cm2, area reached when length = lmax\n",
    "                N = 100  \n",
    "                y = np.array([-3, -3 * 0.7, 0., 3.5 * 0.7, 3.5])\n",
    "                l = np.array([0., 2.2 * 0.7, 1.7, 1.8 * 0.7, 0.])\n",
    "                p.createLeafGeometry(y, l, N)         \n",
    "                \n",
    "                \n",
    "            p.tropismT = 6 # 6: Anti-gravitropism to gravitropism\n",
    "            #p.tropismN = 5\n",
    "            #p.tropismS = 0.1\n",
    "            p.tropismAge = 10 #< age at which tropism switch occures, only used if p.tropismT = 6"
   ]
  },
  {
   "cell_type": "markdown",
   "metadata": {},
   "source": [
    "## Run Example"
   ]
  },
  {
   "cell_type": "code",
   "execution_count": 6,
   "metadata": {},
   "outputs": [],
   "source": [
    "plant.initialize()"
   ]
  },
  {
   "cell_type": "code",
   "execution_count": 7,
   "metadata": {},
   "outputs": [
    {
     "name": "stdout",
     "output_type": "stream",
     "text": [
      "Seed::initialize: Plant \n",
      "Tiller stem type #4 was not defined, using main stem parameters instead, construct from Organism\n",
      "writing VTP: results/example9a_0.vtp\n",
      "construct from Organism\n",
      "writing VTP: results/example9a_1.vtp\n",
      "construct from Organism\n",
      "writing VTP: results/example9a_2.vtp\n",
      "construct from Organism\n",
      "writing VTP: results/example9a_3.vtp\n",
      "construct from Organism\n",
      "writing VTP: results/example9a_4.vtp\n",
      "construct from Organism\n",
      "writing VTP: results/example9a_5.vtp\n",
      "construct from Organism\n",
      "writing VTP: results/example9a_6.vtp\n",
      "construct from Organism\n",
      "writing VTP: results/example9a_7.vtp\n",
      "construct from Organism\n",
      "writing VTP: results/example9a_8.vtp\n",
      "construct from Organism\n",
      "writing VTP: results/example9a_9.vtp\n",
      "construct from Organism\n",
      "writing VTP: results/example9a_10.vtp\n",
      "construct from Organism\n",
      "writing VTP: results/example9a_11.vtp\n",
      "construct from Organism\n",
      "writing VTP: results/example9a_12.vtp\n",
      "construct from Organism\n",
      "writing VTP: results/example9a_13.vtp\n",
      "construct from Organism\n",
      "writing VTP: results/example9a_14.vtp\n",
      "construct from Organism\n",
      "writing VTP: results/example9a_15.vtp\n",
      "construct from Organism\n",
      "writing VTP: results/example9a_16.vtp\n",
      "construct from Organism\n",
      "writing VTP: results/example9a_17.vtp\n",
      "construct from Organism\n",
      "writing VTP: results/example9a_18.vtp\n",
      "construct from Organism\n",
      "writing VTP: results/example9a_19.vtp\n",
      "construct from Organism\n",
      "writing VTP: results/example9a_20.vtp\n",
      "construct from Organism\n",
      "writing VTP: results/example9a_21.vtp\n",
      "construct from Organism\n",
      "writing VTP: results/example9a_22.vtp\n",
      "construct from Organism\n",
      "writing VTP: results/example9a_23.vtp\n",
      "construct from Organism\n",
      "writing VTP: results/example9a_24.vtp\n",
      "construct from Organism\n",
      "writing VTP: results/example9a_25.vtp\n",
      "construct from Organism\n",
      "writing VTP: results/example9a_26.vtp\n",
      "construct from Organism\n",
      "writing VTP: results/example9a_27.vtp\n",
      "construct from Organism\n",
      "writing VTP: results/example9a_28.vtp\n",
      "construct from Organism\n",
      "writing VTP: results/example9a_29.vtp\n"
     ]
    }
   ],
   "source": [
    "if anim:\n",
    "    dt = 1\n",
    "    N_ = 30\n",
    "    min_ = np.array([0, -20, 0])/2\n",
    "    max_ = np.array([20, 20, 30.])/2\n",
    "    for i in range(0, N_):\n",
    "        plant.simulate(dt, False)\n",
    "        ana = pb.SegmentAnalyser(plant)\n",
    "        ana.write(\"results/example9a_%s.vtp\" %(i))"
   ]
  },
  {
   "cell_type": "code",
   "execution_count": 8,
   "metadata": {},
   "outputs": [
    {
     "name": "stdout",
     "output_type": "stream",
     "text": [
      "2D leaf shape of a full grown leaf\n"
     ]
    },
    {
     "data": {
      "image/png": "[encoded data removed]",
      "text/plain": [
       "<Figure size 432x288 with 1 Axes>"
      ]
     },
     "metadata": {
      "needs_background": "light"
     },
     "output_type": "display_data"
    },
    {
     "name": "stdout",
     "output_type": "stream",
     "text": [
      "3D leaf shape of actual leaf\n"
     ]
    }
   ],
   "source": [
    "if getImage: \n",
    "    \n",
    "    # Simulate\n",
    "    if not anim:\n",
    "        plant.simulate(30, True)\n",
    "    # Plot, using vtk\n",
    "    vp.plot_plant(plant, \"organType\")\n",
    "    # zoom on leaf--theory--2D\n",
    "    print(\"2D leaf shape of a full grown leaf\")\n",
    "    lorg = plant.getOrgans(pb.leaf)[0]\n",
    "    lrp = lorg.getLeafRandomParameter()  \n",
    "    if leafRadial:\n",
    "        yy = np.linspace(0, lorg.leafLength(), N)\n",
    "        geom_x, geom_y = [],[]\n",
    "        for i, x in enumerate(lrp.leafGeometry):\n",
    "            geom_x.extend(x)\n",
    "            geom_y.extend([yy[i]] * len(x))\n",
    "        geom_x = np.array(geom_x)\n",
    "        geom_y = np.array(geom_y)        \n",
    "        a  = lorg.leafArea() / lorg.leafLength() # scale radius\n",
    "        plt.plot(geom_x * a, geom_y, \"g*\")\n",
    "        plt.plot(-geom_x * a, geom_y, \"g*\")\n",
    "\n",
    "    else:\n",
    "        geom_x_a =  np.array([0])\n",
    "        geom_x_b = np.array([ x[-1] for x in lrp.leafGeometry]) #normalized x value along length\n",
    "        geom_x = np.concatenate((geom_x_a,geom_x_b))\n",
    "        geom_y_a = np.array([0])\n",
    "        geom_y_b =np.linspace(lrp.lb, lorg.leafLength()+lrp.lb, len(geom_x_b))\n",
    "        geom_y = np.concatenate((geom_y_a,geom_y_b))\n",
    "        a  = lorg.leafArea() / lorg.leafLength() # scale radius\n",
    "        plt.plot(geom_x * a, geom_y, \"g-*\")\n",
    "        plt.plot(-geom_x * a, geom_y, \"g-*\")\n",
    "    plt.ylim([0, lrp.lmax+1])\n",
    "    plt.xlim([-a-1, a+1])\n",
    "    plt.axis('scaled')\n",
    "    plt.show()\n",
    "\n",
    "\n",
    "\n",
    "    # zoom on leaf--realized\n",
    "    print(\"3D leaf shape of actual leaf\")\n",
    "    vp.plot_leaf(lorg)"
   ]
  },
  {
   "cell_type": "code",
   "execution_count": 11,
   "metadata": {},
   "outputs": [],
   "source": []
  },
  {
   "cell_type": "code",
   "execution_count": null,
   "metadata": {},
   "outputs": [],
   "source": []
  }
 ],
 "metadata": {
  "kernelspec": {
   "display_name": "Python 3 (ipykernel)",
   "language": "python",
   "name": "python3"
  },
  "language_info": {
   "codemirror_mode": {
    "name": "ipython",
    "version": 3
   },
   "file_extension": ".py",
   "mimetype": "text/x-python",
   "name": "python",
   "nbconvert_exporter": "python",
   "pygments_lexer": "ipython3",
   "version": "3.8.10"
  },
  "latex_envs": {
   "LaTeX_envs_menu_present": true,
   "autoclose": false,
   "autocomplete": true,
   "bibliofile": "biblio.bib",
   "cite_by": "apalike",
   "current_citInitial": 1,
   "eqLabelWithNumbers": true,
   "eqNumInitial": 1,
   "hotkeys": {
    "equation": "Ctrl-E",
    "itemize": "Ctrl-I"
   },
   "labels_anchors": false,
   "latex_user_defs": false,
   "report_style_numbering": false,
   "user_envs_cfg": false
  }
 },
 "nbformat": 4,
 "nbformat_minor": 4
}
